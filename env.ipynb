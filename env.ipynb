{
 "cells": [
  {
   "cell_type": "markdown",
   "metadata": {},
   "source": [
    "# Paper Soccer Demo Notebook\n",
    "\n",
    "This notebook shows how to interact with environment that simulates playing in paper soccer.\n",
    "\n",
    "There are three concepts to get familiar with:\n",
    "\n",
    "- **Board** - board class with methods to interact with environment; equipped with method to draw the board\n",
    "- **SingleBlock** - internal structure that represents each building-block of soccer game (data is bit-encoded in single value sou if you want to interact with the raw data you should transform it to separate bits)\n",
    "- **Actor** - Actually the actors are created in this notebook and show possible ways of interacting with the environment"
   ]
  },
  {
   "cell_type": "code",
   "execution_count": 1,
   "metadata": {},
   "outputs": [],
   "source": [
    "# Notebook dependencies\n",
    "import numpy as np\n",
    "import matplotlib.pyplot as plt\n",
    "from PIL import Image\n",
    "from tqdm import tqdm_notebook as tqdm\n",
    "\n",
    "# paper soccer library\n",
    "from papersoccer_env import Board"
   ]
  },
  {
   "cell_type": "markdown",
   "metadata": {},
   "source": [
    "# Board object"
   ]
  },
  {
   "cell_type": "code",
   "execution_count": 2,
   "metadata": {},
   "outputs": [
    {
     "data": {
      "image/png": "[encoded data removed]",
      "text/plain": [
       "<PIL.Image.Image image mode=RGB size=150x210 at 0x11D622DD0>"
      ]
     },
     "execution_count": 2,
     "metadata": {},
     "output_type": "execute_result"
    }
   ],
   "source": [
    "board = Board()\n",
    "board.move(\"T\")\n",
    "board.move(\"TR\")\n",
    "Image.fromarray(board.draw())"
   ]
  },
  {
   "cell_type": "code",
   "execution_count": 3,
   "metadata": {},
   "outputs": [
    {
     "data": {
      "image/png": "[encoded data removed]",
      "text/plain": [
       "<PIL.Image.Image image mode=RGB size=150x210 at 0x11D6D6ED0>"
      ]
     },
     "execution_count": 3,
     "metadata": {},
     "output_type": "execute_result"
    }
   ],
   "source": [
    "# copy board, changing source deos not change copy\n",
    "board2 = board.copy()\n",
    "board.move(\"T\")\n",
    "Image.fromarray(board2.draw())"
   ]
  },
  {
   "cell_type": "code",
   "execution_count": 4,
   "metadata": {},
   "outputs": [
    {
     "name": "stdout",
     "output_type": "stream",
     "text": [
      "moves made:1, valid_move=True, next_player=1, winner=None\n",
      "moves made:2, valid_move=True, next_player=0, winner=None\n",
      "moves made:3, valid_move=True, next_player=1, winner=None\n",
      "moves made:4, valid_move=True, next_player=0, winner=None\n",
      "moves made:5, valid_move=True, next_player=1, winner=None\n",
      "moves made:5, valid_move=True, next_player=None, winner=0\n"
     ]
    },
    {
     "data": {
      "image/png": "[encoded data removed]",
      "text/plain": [
       "<PIL.Image.Image image mode=RGB size=150x210 at 0x11D6D6A90>"
      ]
     },
     "execution_count": 4,
     "metadata": {},
     "output_type": "execute_result"
    }
   ],
   "source": [
    "# move - returned values\n",
    "board = Board()\n",
    "\n",
    "move_code = \"T\"\n",
    "\n",
    "valid_move, next_player, winner = board.move(move_code)\n",
    "print(f\"moves made:{board.moves}, valid_move={valid_move}, next_player={next_player}, winner={winner}\")\n",
    "valid_move, next_player, winner = board.move(move_code)\n",
    "print(f\"moves made:{board.moves}, valid_move={valid_move}, next_player={next_player}, winner={winner}\")\n",
    "valid_move, next_player, winner = board.move(move_code)\n",
    "print(f\"moves made:{board.moves}, valid_move={valid_move}, next_player={next_player}, winner={winner}\")\n",
    "valid_move, next_player, winner = board.move(move_code)\n",
    "print(f\"moves made:{board.moves}, valid_move={valid_move}, next_player={next_player}, winner={winner}\")\n",
    "valid_move, next_player, winner = board.move(move_code)\n",
    "print(f\"moves made:{board.moves}, valid_move={valid_move}, next_player={next_player}, winner={winner}\")\n",
    "valid_move, next_player, winner = board.move(\"T\")\n",
    "print(f\"moves made:{board.moves}, valid_move={valid_move}, next_player={next_player}, winner={winner}\")\n",
    "\n",
    "Image.fromarray(board.draw())"
   ]
  },
  {
   "cell_type": "markdown",
   "metadata": {},
   "source": [
    "# Drawing game via seqience of moves"
   ]
  },
  {
   "cell_type": "code",
   "execution_count": 5,
   "metadata": {},
   "outputs": [],
   "source": [
    "_,img,img_game = Board.play_sequence([\"T\",\"TL\",\"TR\",\"R\",\"B\",\"L\",\"BR\",\"BL\"])"
   ]
  },
  {
   "cell_type": "code",
   "execution_count": 6,
   "metadata": {},
   "outputs": [
    {
     "data": {
      "image/png": "[encoded data removed]",
      "text/plain": [
       "<PIL.Image.Image image mode=RGB size=150x210 at 0x11D6F1F90>"
      ]
     },
     "execution_count": 6,
     "metadata": {},
     "output_type": "execute_result"
    }
   ],
   "source": [
    "Image.fromarray(img)"
   ]
  },
  {
   "cell_type": "code",
   "execution_count": 7,
   "metadata": {},
   "outputs": [
    {
     "data": {
      "image/png": "[encoded data removed]",
      "text/plain": [
       "<PIL.Image.Image image mode=RGB size=905x421 at 0x11D6F1ED0>"
      ]
     },
     "execution_count": 7,
     "metadata": {},
     "output_type": "execute_result"
    }
   ],
   "source": [
    "Image.fromarray(img_game)"
   ]
  },
  {
   "cell_type": "markdown",
   "metadata": {},
   "source": [
    "# Playing with the environment\n",
    "\n",
    "Section below shows how to approach a implementation of an actor (those are really silly ones).\n",
    "Basically there in only one methods to be implemented:\n",
    "* move\n",
    "\n",
    "Method of moving takes environment as a parameter. Environment variables are accessible so you can get **environment state**. Environment has methods to support takieng **actions**:\n",
    "- possible_moves(...) - returns a list of possible moves\n",
    "- move(...) - performs a move, returns information if move was valid, who is nest to play and if anybody has already won"
   ]
  },
  {
   "cell_type": "markdown",
   "metadata": {},
   "source": [
    "## Random actor"
   ]
  },
  {
   "cell_type": "code",
   "execution_count": 8,
   "metadata": {},
   "outputs": [],
   "source": [
    "class Actor():\n",
    "    def __init__(self, name):\n",
    "        self.name = name\n",
    "        \n",
    "    def get_name(self):\n",
    "        return self.name\n",
    "    \n",
    "    def move(self, board):\n",
    "        raise Exception(\"move(...): Not implemented\")\n",
    "        \n",
    "class RandomActor(Actor):\n",
    "    def __init__(self, name):\n",
    "        super(RandomActor, self).__init__(\"Random_\"+name)\n",
    "    \n",
    "    def move(self, board):\n",
    "        moves_dict = board.possible_moves()\n",
    "        moves = []\n",
    "        for key in moves_dict:\n",
    "            if moves_dict[key]:\n",
    "                moves.append(key)\n",
    "\n",
    "        index = np.random.randint(0,len(moves))\n",
    "        return moves[index]"
   ]
  },
  {
   "cell_type": "markdown",
   "metadata": {},
   "source": [
    "## Tournament"
   ]
  },
  {
   "cell_type": "code",
   "execution_count": 9,
   "metadata": {},
   "outputs": [],
   "source": [
    "def play_game(playerA, playerB, max_moves):\n",
    "    board = Board()\n",
    "    next_player = 0\n",
    "    sequence = []\n",
    "    for i in range(max_moves):\n",
    "        if next_player == 0:\n",
    "            move = playerA.move(board)\n",
    "        else:\n",
    "            move = playerB.move(board)\n",
    "            \n",
    "        valid_move, next_player, winner = board.move(move)\n",
    "        sequence.append(move)\n",
    "        if winner is not None:\n",
    "            return i, winner, sequence       \n",
    "        \n",
    "    return max_moves, 0.5, sequence # draw if moves exhausted\n",
    "\n",
    "def play_tournament(players, rounds=100, max_moves=1000):\n",
    "    \n",
    "    points = {p.get_name():0 for p in players}\n",
    "    \n",
    "    all_games = len(players)*(len(players)-1)*rounds\n",
    "    progress = tqdm(total=all_games)\n",
    "    \n",
    "    history = []\n",
    "    \n",
    "    for round in range(rounds):\n",
    "        for pa, playerA in enumerate(players):\n",
    "            for pb, playerB in enumerate(players):\n",
    "                if pa<pb:\n",
    "                    moves, pointsA, sequence = play_game(playerA, playerB, max_moves)\n",
    "                    history.append( (playerA.get_name(), playerB.get_name(), pointsA, sequence) )\n",
    "                    progress.update()\n",
    "                    \n",
    "                    moves, pointsB,_ = play_game(playerB, playerA, max_moves)\n",
    "                    history.append( (playerB.get_name(), playerA.get_name(), pointsB, sequence) )\n",
    "                    progress.update()\n",
    "                    \n",
    "                    points[playerA.get_name()] += pointsA + (1-pointsB)\n",
    "                    points[playerB.get_name()] += pointsB + (1-pointsA)               \n",
    "    return points, history"
   ]
  },
  {
   "cell_type": "markdown",
   "metadata": {},
   "source": [
    "## Random play"
   ]
  },
  {
   "cell_type": "code",
   "execution_count": 10,
   "metadata": {},
   "outputs": [
    {
     "data": {
      "application/vnd.jupyter.widget-view+json": {
       "model_id": "97a38b0fd4194b9f87a3f8a1a7c0a46e",
       "version_major": 2,
       "version_minor": 0
      },
      "text/plain": [
       "HBox(children=(IntProgress(value=0, max=600), HTML(value='')))"
      ]
     },
     "metadata": {},
     "output_type": "display_data"
    },
    {
     "name": "stdout",
     "output_type": "stream",
     "text": [
      "\n"
     ]
    },
    {
     "data": {
      "text/plain": [
       "{'Random_1': 192, 'Random_2': 196, 'Random_3': 212}"
      ]
     },
     "execution_count": 10,
     "metadata": {},
     "output_type": "execute_result"
    }
   ],
   "source": [
    "points, history  = play_tournament([RandomActor(\"1\"),RandomActor(\"2\"),RandomActor(\"3\")])\n",
    "\n",
    "# Returns points after tournament (1-win; 0-loss; 0.5-draw)\n",
    "points"
   ]
  },
  {
   "cell_type": "markdown",
   "metadata": {},
   "source": [
    "### Stats of the game lengths"
   ]
  },
  {
   "cell_type": "code",
   "execution_count": 11,
   "metadata": {},
   "outputs": [
    {
     "name": "stdout",
     "output_type": "stream",
     "text": [
      "Average game length 36.86333333333334\n",
      "Median game length 31.0\n",
      "Min game length 5\n",
      "Max game length 134\n"
     ]
    },
    {
     "data": {
      "image/png": "[encoded data removed]",
      "text/plain": [
       "<Figure size 432x288 with 1 Axes>"
      ]
     },
     "metadata": {
      "needs_background": "light"
     },
     "output_type": "display_data"
    }
   ],
   "source": [
    "lengths = [len(h[3]) for h in history]\n",
    "print(\"Average game length\",np.mean(lengths))\n",
    "print(\"Median game length\",np.median(lengths))\n",
    "print(\"Min game length\",np.min([lengths]))\n",
    "print(\"Max game length\",np.max([lengths]))\n",
    "\n",
    "plt.hist(lengths, bins=50)\n",
    "plt.title(\"Game lengths histogram\")\n",
    "del history"
   ]
  },
  {
   "cell_type": "markdown",
   "metadata": {},
   "source": [
    "## Greedy actors"
   ]
  },
  {
   "cell_type": "code",
   "execution_count": 12,
   "metadata": {},
   "outputs": [],
   "source": [
    "class TryOnlyBestActor(Actor):\n",
    "    def __init__(self, name):\n",
    "        super(TryOnlyBestActor, self).__init__(\"TryBest_\"+name)\n",
    "    \n",
    "    def move(self, board):\n",
    "        moves_dict = board.possible_moves()\n",
    "        target = board.winning_positions[board.player_to_move][0]\n",
    "        \n",
    "        y,x = board.ball_pos\n",
    "        ty,tx = target\n",
    "        \n",
    "        # Calculate preference\n",
    "        vert_preference = \"\"\n",
    "        horiz_preference = \"\"\n",
    "        \n",
    "        if tx<x:\n",
    "            horiz_preference=\"L\"\n",
    "        elif tx>x:\n",
    "            horiz_preference=\"R\"\n",
    "            \n",
    "        if ty<y:\n",
    "            vert_preference=\"T\"\n",
    "        elif ty>y:\n",
    "            vert_preference=\"B\"\n",
    "            \n",
    "        shortest_move = vert_preference+horiz_preference\n",
    "\n",
    "        # Possible moves\n",
    "        moves = []\n",
    "        for key in moves_dict:\n",
    "            if moves_dict[key]:\n",
    "                moves.append(key)\n",
    "                \n",
    "        # Try best     \n",
    "        if shortest_move in moves:\n",
    "            return shortest_move\n",
    "\n",
    "        index = np.random.randint(0,len(moves))\n",
    "        return moves[index]"
   ]
  },
  {
   "cell_type": "code",
   "execution_count": 13,
   "metadata": {},
   "outputs": [],
   "source": [
    "class GreedyActor(Actor):\n",
    "    def __init__(self, name):\n",
    "        super(GreedyActor, self).__init__(\"Greedy_\"+name)\n",
    "    \n",
    "    def move(self, board):\n",
    "        moves_dict = board.possible_moves()\n",
    "        target = board.winning_positions[board.player_to_move][0]\n",
    "        \n",
    "        y,x = board.ball_pos\n",
    "        ty,tx = target\n",
    "        \n",
    "        # Calculate preference\n",
    "        vert_preference = \"\"\n",
    "        horiz_preference = \"\"\n",
    "        \n",
    "        if tx<x:\n",
    "            horiz_preference=\"L\"\n",
    "        elif tx>x:\n",
    "            horiz_preference=\"R\"\n",
    "            \n",
    "        if ty<y:\n",
    "            vert_preference=\"T\"\n",
    "        elif ty>y:\n",
    "            vert_preference=\"B\"\n",
    "            \n",
    "        shortest_move = vert_preference+horiz_preference\n",
    "\n",
    "        # Possible moves\n",
    "        moves = []\n",
    "        for key in moves_dict:\n",
    "            if moves_dict[key]:\n",
    "                moves.append(key)\n",
    "         \n",
    "         # Try best    \n",
    "        if shortest_move in moves:\n",
    "            return shortest_move\n",
    "        \n",
    "         # Try horiz direction\n",
    "        for m in moves:\n",
    "            if horiz_preference in m:\n",
    "                return m\n",
    "            \n",
    "         # Try vert direction\n",
    "        for m in moves:\n",
    "            if vert_preference in m:\n",
    "                return m\n",
    "\n",
    "        index = np.random.randint(0,len(moves))\n",
    "        return moves[index]"
   ]
  },
  {
   "cell_type": "markdown",
   "metadata": {},
   "source": [
    "# Combined tournament"
   ]
  },
  {
   "cell_type": "code",
   "execution_count": 14,
   "metadata": {},
   "outputs": [
    {
     "data": {
      "application/vnd.jupyter.widget-view+json": {
       "model_id": "8d46033f6f644843b6765686635a178a",
       "version_major": 2,
       "version_minor": 0
      },
      "text/plain": [
       "HBox(children=(IntProgress(value=0, max=6000), HTML(value='')))"
      ]
     },
     "metadata": {},
     "output_type": "display_data"
    },
    {
     "name": "stdout",
     "output_type": "stream",
     "text": [
      "\n"
     ]
    },
    {
     "data": {
      "text/plain": [
       "{'Random_1': 1082, 'Greedy_2': 3231, 'TryBest_3': 1687}"
      ]
     },
     "execution_count": 14,
     "metadata": {},
     "output_type": "execute_result"
    }
   ],
   "source": [
    "# One of each\n",
    "points, _  = play_tournament([RandomActor(\"1\"),GreedyActor(\"2\"),TryOnlyBestActor(\"3\")], rounds=1000)\n",
    "\n",
    "# Returns points after tournament (1-win; 0-loss; 0.5-draw)\n",
    "points"
   ]
  },
  {
   "cell_type": "code",
   "execution_count": 15,
   "metadata": {},
   "outputs": [
    {
     "data": {
      "application/vnd.jupyter.widget-view+json": {
       "model_id": "0d1de659c5054d47adf20dffecc0da13",
       "version_major": 2,
       "version_minor": 0
      },
      "text/plain": [
       "HBox(children=(IntProgress(value=0, max=30000), HTML(value='')))"
      ]
     },
     "metadata": {},
     "output_type": "display_data"
    },
    {
     "data": {
      "text/plain": [
       "{'Random_1': 3057,\n",
       " 'Greedy_2': 7540,\n",
       " 'TryBest_3': 4373,\n",
       " 'Random_4': 3022,\n",
       " 'Greedy_5': 7569,\n",
       " 'TryBest_6': 4439}"
      ]
     },
     "execution_count": 15,
     "metadata": {},
     "output_type": "execute_result"
    }
   ],
   "source": [
    "# Two of each\n",
    "points, _  = play_tournament([RandomActor(\"1\"),GreedyActor(\"2\"),TryOnlyBestActor(\"3\"),\n",
    "                              RandomActor(\"4\"),GreedyActor(\"5\"),TryOnlyBestActor(\"6\")], rounds=1000)\n",
    "\n",
    "# Returns points after tournament (1-win; 0-loss; 0.5-draw)\n",
    "points"
   ]
  }
 ],
 "metadata": {
  "kernelspec": {
   "display_name": "Python 3",
   "language": "python",
   "name": "python3"
  },
  "language_info": {
   "codemirror_mode": {
    "name": "ipython",
    "version": 3
   },
   "file_extension": ".py",
   "mimetype": "text/x-python",
   "name": "python",
   "nbconvert_exporter": "python",
   "pygments_lexer": "ipython3",
   "version": "3.7.4"
  }
 },
 "nbformat": 4,
 "nbformat_minor": 2
}
