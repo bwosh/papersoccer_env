{
 "cells": [
  {
   "cell_type": "markdown",
   "metadata": {},
   "source": [
    "# Paper Soccer Demo Notebook\n",
    "\n",
    "This notebook shows how to interact with environment that simulates playing in paper soccer.\n",
    "\n",
    "There are three concepts to get familiar with:\n",
    "\n",
    "- **Board** - board class with methods to interact with environment; equipped with method to draw the board\n",
    "- **SingleBlock** - internal structure that represents each building-block of soccer game (data is bit-encoded in single value sou if you want to interact with the raw data you should transform it to separate bits)\n",
    "- **Actor** - Actors creater in actors.py show possible ways of interacting with the environment"
   ]
  },
  {
   "cell_type": "code",
   "execution_count": 1,
   "metadata": {},
   "outputs": [],
   "source": [
    "# Notebook dependencies\n",
    "import numpy as np\n",
    "import matplotlib.pyplot as plt\n",
    "from PIL import Image\n",
    "from tqdm import tqdm_notebook as tqdm\n",
    "\n",
    "# paper soccer library\n",
    "from papersoccer_env import Board\n",
    "from actors import RandomActor, GreedyActor, TryOnlyBestActor\n",
    "from tournament import play_game,  play_tournament\n",
    "from sequence import encode_moves, decode_moves"
   ]
  },
  {
   "cell_type": "code",
   "execution_count": 2,
   "metadata": {},
   "outputs": [],
   "source": [
    "# Set local progress method\n",
    "progress_method=lambda x:tqdm(x)"
   ]
  },
  {
   "cell_type": "markdown",
   "metadata": {},
   "source": [
    "# Board object"
   ]
  },
  {
   "cell_type": "code",
   "execution_count": 3,
   "metadata": {},
   "outputs": [
    {
     "data": {
      "image/png": "[encoded data removed]",
      "text/plain": [
       "<PIL.Image.Image image mode=RGB size=150x210 at 0x118EB8710>"
      ]
     },
     "execution_count": 3,
     "metadata": {},
     "output_type": "execute_result"
    }
   ],
   "source": [
    "board = Board()\n",
    "board.move(\"T\")\n",
    "board.move(\"TR\")\n",
    "Image.fromarray(board.draw())"
   ]
  },
  {
   "cell_type": "code",
   "execution_count": 4,
   "metadata": {},
   "outputs": [
    {
     "data": {
      "image/png": "[encoded data removed]",
      "text/plain": [
       "<PIL.Image.Image image mode=RGB size=150x210 at 0x11955E2D0>"
      ]
     },
     "execution_count": 4,
     "metadata": {},
     "output_type": "execute_result"
    }
   ],
   "source": [
    "# copy board, changing source deos not change copy\n",
    "board2 = board.copy()\n",
    "board.move(\"T\")\n",
    "Image.fromarray(board2.draw())"
   ]
  },
  {
   "cell_type": "code",
   "execution_count": 5,
   "metadata": {},
   "outputs": [
    {
     "name": "stdout",
     "output_type": "stream",
     "text": [
      "moves made:1, valid_move=True, next_player=1, winner=None\n",
      "moves made:2, valid_move=True, next_player=0, winner=None\n",
      "moves made:3, valid_move=True, next_player=1, winner=None\n",
      "moves made:4, valid_move=True, next_player=0, winner=None\n",
      "moves made:5, valid_move=True, next_player=1, winner=None\n",
      "moves made:5, valid_move=True, next_player=None, winner=0\n"
     ]
    },
    {
     "data": {
      "image/png": "[encoded data removed]",
      "text/plain": [
       "<PIL.Image.Image image mode=RGB size=150x210 at 0x1210B33D0>"
      ]
     },
     "execution_count": 5,
     "metadata": {},
     "output_type": "execute_result"
    }
   ],
   "source": [
    "# move - returned values\n",
    "board = Board()\n",
    "\n",
    "move_code = \"T\"\n",
    "\n",
    "valid_move, next_player, winner = board.move(move_code)\n",
    "print(f\"moves made:{board.moves}, valid_move={valid_move}, next_player={next_player}, winner={winner}\")\n",
    "valid_move, next_player, winner = board.move(move_code)\n",
    "print(f\"moves made:{board.moves}, valid_move={valid_move}, next_player={next_player}, winner={winner}\")\n",
    "valid_move, next_player, winner = board.move(move_code)\n",
    "print(f\"moves made:{board.moves}, valid_move={valid_move}, next_player={next_player}, winner={winner}\")\n",
    "valid_move, next_player, winner = board.move(move_code)\n",
    "print(f\"moves made:{board.moves}, valid_move={valid_move}, next_player={next_player}, winner={winner}\")\n",
    "valid_move, next_player, winner = board.move(move_code)\n",
    "print(f\"moves made:{board.moves}, valid_move={valid_move}, next_player={next_player}, winner={winner}\")\n",
    "valid_move, next_player, winner = board.move(\"T\")\n",
    "print(f\"moves made:{board.moves}, valid_move={valid_move}, next_player={next_player}, winner={winner}\")\n",
    "\n",
    "Image.fromarray(board.draw())"
   ]
  },
  {
   "cell_type": "markdown",
   "metadata": {},
   "source": [
    "# Drawing game via sequence of moves"
   ]
  },
  {
   "cell_type": "code",
   "execution_count": 6,
   "metadata": {},
   "outputs": [],
   "source": [
    "_,img,img_game = Board.play_sequence([\"T\",\"TL\",\"TR\",\"R\",\"B\",\"L\",\"BR\",\"BL\"])"
   ]
  },
  {
   "cell_type": "code",
   "execution_count": 7,
   "metadata": {},
   "outputs": [
    {
     "data": {
      "image/png": "[encoded data removed]",
      "text/plain": [
       "<PIL.Image.Image image mode=RGB size=150x210 at 0x1210D9150>"
      ]
     },
     "execution_count": 7,
     "metadata": {},
     "output_type": "execute_result"
    }
   ],
   "source": [
    "Image.fromarray(img)"
   ]
  },
  {
   "cell_type": "code",
   "execution_count": 8,
   "metadata": {},
   "outputs": [
    {
     "data": {
      "image/png": "[encoded data removed]",
      "text/plain": [
       "<PIL.Image.Image image mode=RGB size=905x421 at 0x120FF5450>"
      ]
     },
     "execution_count": 8,
     "metadata": {},
     "output_type": "execute_result"
    }
   ],
   "source": [
    "Image.fromarray(img_game)"
   ]
  },
  {
   "cell_type": "markdown",
   "metadata": {},
   "source": [
    "# Representing the state"
   ]
  },
  {
   "cell_type": "code",
   "execution_count": 9,
   "metadata": {},
   "outputs": [
    {
     "data": {
      "text/plain": [
       "'30,30,30,30,30,30,30,30,30,30,30,30,30,30,6,2,30,30,30,30,30,6,2,2,0,0,2,2,2,30,30,4,0,0,0,0,0,0,0,30,30,4,0,0,8,2,4,0,0,30,30,4,0,0,16,18,0,0,0,30,30,4,0,0,0,12,0,0,0,30,30,4,0,0,0,1,0,0,0,30,30,4,0,0,0,0,0,0,0,30,30,4,0,0,0,0,0,0,0,30,30,4,0,0,0,0,0,0,0,30,30,4,0,0,0,0,0,0,0,30,30,30,30,30,4,0,30,30,30,30,30,30,30,30,30,30,30,30,30,30'"
      ]
     },
     "execution_count": 9,
     "metadata": {},
     "output_type": "execute_result"
    }
   ],
   "source": [
    "# board data state - compact\n",
    "board,_,_ = Board.play_sequence([\"T\",\"TL\",\"TR\",\"R\",\"B\",\"L\",\"BR\",\"BL\"])\n",
    "board.get_compact_state()"
   ]
  },
  {
   "cell_type": "code",
   "execution_count": 10,
   "metadata": {},
   "outputs": [
    {
     "data": {
      "text/plain": [
       "'Hh4eHh4eHh4eHh4eHh4GAh4eHh4eBgICAAACAgIeHgQAAAAAAAAAHh4EAAAIAgQAAB4eBAAAEBIAAAAeHgQAAAAMAAAAHh4EAAAAAQAAAB4eBAAAAAAAAAAeHgQAAAAAAAAAHh4EAAAAAAAAAB4eBAAAAAAAAAAeHh4eHgQAHh4eHh4eHh4eHh4eHh4='"
      ]
     },
     "execution_count": 10,
     "metadata": {},
     "output_type": "execute_result"
    }
   ],
   "source": [
    "# board data state - base64 state\n",
    "board,_,_ = Board.play_sequence([\"T\",\"TL\",\"TR\",\"R\",\"B\",\"L\",\"BR\",\"BL\"])\n",
    "board.get_b64_state()"
   ]
  },
  {
   "cell_type": "code",
   "execution_count": 11,
   "metadata": {},
   "outputs": [
    {
     "name": "stdout",
     "output_type": "stream",
     "text": [
      "Sequence        : ['BL', 'BR', 'B', 'B', 'BL', 'BR']\n",
      "Sequence length : 6\n",
      "Encoded         : V7d4\n",
      "Decoded         : ['BL', 'BR', 'B', 'B', 'BL', 'BR']\n"
     ]
    }
   ],
   "source": [
    "# Move sequence representation\n",
    "_, _, sequence, _ = play_game(RandomActor(\"1\"), RandomActor(\"2\"), max_moves=10)\n",
    "print(\"Sequence        :\", sequence)\n",
    "print(\"Sequence length :\", len(sequence))\n",
    "encoded = encode_moves(sequence)\n",
    "print(\"Encoded         :\", encoded)\n",
    "print(\"Decoded         :\", decode_moves(encoded))"
   ]
  },
  {
   "cell_type": "markdown",
   "metadata": {},
   "source": [
    "# Playing with the environment\n",
    "\n",
    "actors.py file below shows how to approach implementation of an actor (those are really silly ones).\n",
    "Basically there in only one methods to be implemented:\n",
    "* move\n",
    "\n",
    "Method of moving takes environment as a parameter. Environment variables are accessible so you can get **environment state**. Environment has methods to support takieng **actions**:\n",
    "- possible_moves(...) - returns a list of possible moves\n",
    "- move(...) - performs a move, returns information if move was valid, who is nest to play and if anybody has already won"
   ]
  },
  {
   "cell_type": "markdown",
   "metadata": {},
   "source": [
    "## Random play"
   ]
  },
  {
   "cell_type": "code",
   "execution_count": 12,
   "metadata": {},
   "outputs": [
    {
     "data": {
      "text/plain": [
       "{'Random_1': 205, 'Random_2': 180, 'Random_3': 215}"
      ]
     },
     "execution_count": 12,
     "metadata": {},
     "output_type": "execute_result"
    }
   ],
   "source": [
    "points, history  = play_tournament([RandomActor(\"1\"),RandomActor(\"2\"),RandomActor(\"3\")])\n",
    "\n",
    "# Returns points after tournament (1-win; 0-loss; 0.5-draw)\n",
    "points"
   ]
  },
  {
   "cell_type": "markdown",
   "metadata": {},
   "source": [
    "### Stats of the game lengths"
   ]
  },
  {
   "cell_type": "code",
   "execution_count": 13,
   "metadata": {},
   "outputs": [
    {
     "name": "stdout",
     "output_type": "stream",
     "text": [
      "Average game length 37.24166666666667\n",
      "Median game length 30.0\n",
      "Min game length 6\n",
      "Max game length 135\n"
     ]
    },
    {
     "data": {
      "image/png": "[encoded data removed]",
      "text/plain": [
       "<Figure size 432x288 with 1 Axes>"
      ]
     },
     "metadata": {
      "needs_background": "light"
     },
     "output_type": "display_data"
    }
   ],
   "source": [
    "lengths = [len(h[3]) for h in history]\n",
    "print(\"Average game length\",np.mean(lengths))\n",
    "print(\"Median game length\",np.median(lengths))\n",
    "print(\"Min game length\",np.min([lengths]))\n",
    "print(\"Max game length\",np.max([lengths]))\n",
    "\n",
    "plt.hist(lengths, bins=50)\n",
    "plt.title(\"Game lengths histogram\")\n",
    "del history"
   ]
  },
  {
   "cell_type": "markdown",
   "metadata": {},
   "source": [
    "# Combined tournament"
   ]
  },
  {
   "cell_type": "code",
   "execution_count": 14,
   "metadata": {},
   "outputs": [
    {
     "data": {
      "application/vnd.jupyter.widget-view+json": {
       "model_id": "37cb1de1ac544a52b25503bd3849b8af",
       "version_major": 2,
       "version_minor": 0
      },
      "text/plain": [
       "HBox(children=(IntProgress(value=0, max=1000), HTML(value='')))"
      ]
     },
     "metadata": {},
     "output_type": "display_data"
    },
    {
     "name": "stdout",
     "output_type": "stream",
     "text": [
      "\n"
     ]
    },
    {
     "data": {
      "text/plain": [
       "{'Random_1': 1066, 'Greedy_2': 3255, 'TryBest_3': 1679}"
      ]
     },
     "execution_count": 14,
     "metadata": {},
     "output_type": "execute_result"
    }
   ],
   "source": [
    "# One of each\n",
    "points, _  = play_tournament([RandomActor(\"1\"),GreedyActor(\"2\"),TryOnlyBestActor(\"3\")], \n",
    "                             rounds=1000, progress_lambda=progress_method)\n",
    "\n",
    "# Returns points after tournament (1-win; 0-loss; 0.5-draw)\n",
    "points"
   ]
  },
  {
   "cell_type": "code",
   "execution_count": 15,
   "metadata": {},
   "outputs": [
    {
     "data": {
      "application/vnd.jupyter.widget-view+json": {
       "model_id": "1e9de7a25c604232b9391b7fa56dc38b",
       "version_major": 2,
       "version_minor": 0
      },
      "text/plain": [
       "HBox(children=(IntProgress(value=0, max=1000), HTML(value='')))"
      ]
     },
     "metadata": {},
     "output_type": "display_data"
    },
    {
     "name": "stdout",
     "output_type": "stream",
     "text": [
      "\n"
     ]
    },
    {
     "data": {
      "text/plain": [
       "{'Random_1': 3098,\n",
       " 'Greedy_2': 7522,\n",
       " 'TryBest_3': 4358,\n",
       " 'Random_4': 3073,\n",
       " 'Greedy_5': 7548,\n",
       " 'TryBest_6': 4401}"
      ]
     },
     "execution_count": 15,
     "metadata": {},
     "output_type": "execute_result"
    }
   ],
   "source": [
    "# Two of each\n",
    "points, _  = play_tournament([RandomActor(\"1\"),GreedyActor(\"2\"),TryOnlyBestActor(\"3\"),\n",
    "                              RandomActor(\"4\"),GreedyActor(\"5\"),TryOnlyBestActor(\"6\")], \n",
    "                               rounds=1000,progress_lambda=progress_method)\n",
    "\n",
    "# Returns points after tournament (1-win; 0-loss; 0.5-draw)\n",
    "points"
   ]
  },
  {
   "cell_type": "code",
   "execution_count": null,
   "metadata": {},
   "outputs": [],
   "source": []
  }
 ],
 "metadata": {
  "kernelspec": {
   "display_name": "Python 3",
   "language": "python",
   "name": "python3"
  },
  "language_info": {
   "codemirror_mode": {
    "name": "ipython",
    "version": 3
   },
   "file_extension": ".py",
   "mimetype": "text/x-python",
   "name": "python",
   "nbconvert_exporter": "python",
   "pygments_lexer": "ipython3",
   "version": "3.7.4"
  }
 },
 "nbformat": 4,
 "nbformat_minor": 2
}
