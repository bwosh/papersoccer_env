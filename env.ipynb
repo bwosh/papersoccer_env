{
 "cells": [
  {
   "cell_type": "code",
   "execution_count": 1,
   "metadata": {},
   "outputs": [],
   "source": [
    "# Notebook dependencies\n",
    "import numpy as np\n",
    "import matplotlib.pyplot as plt\n",
    "from PIL import Image\n",
    "from tqdm import tqdm_notebook as tqdm\n",
    "\n",
    "# paper soccer library\n",
    "from papersoccer_env import Board"
   ]
  },
  {
   "cell_type": "markdown",
   "metadata": {},
   "source": [
    "# Drawing game via seqience of moves"
   ]
  },
  {
   "cell_type": "code",
   "execution_count": 2,
   "metadata": {},
   "outputs": [],
   "source": [
    "_,img,img_game = Board.play_sequence([\"T\",\"TL\",\"TR\",\"R\",\"B\",\"L\",\"BR\",\"BL\"])"
   ]
  },
  {
   "cell_type": "code",
   "execution_count": 3,
   "metadata": {},
   "outputs": [
    {
     "data": {
      "image/png": "[encoded data removed]",
      "text/plain": [
       "<PIL.Image.Image image mode=RGB size=150x210 at 0x1152A82D0>"
      ]
     },
     "execution_count": 3,
     "metadata": {},
     "output_type": "execute_result"
    }
   ],
   "source": [
    "Image.fromarray(img)"
   ]
  },
  {
   "cell_type": "code",
   "execution_count": 4,
   "metadata": {},
   "outputs": [
    {
     "data": {
      "image/png": "[encoded data removed]",
      "text/plain": [
       "<PIL.Image.Image image mode=RGB size=905x421 at 0x115A3D590>"
      ]
     },
     "execution_count": 4,
     "metadata": {},
     "output_type": "execute_result"
    }
   ],
   "source": [
    "Image.fromarray(img_game)"
   ]
  },
  {
   "cell_type": "markdown",
   "metadata": {},
   "source": [
    "# Random actor"
   ]
  },
  {
   "cell_type": "code",
   "execution_count": 5,
   "metadata": {},
   "outputs": [],
   "source": [
    "class Actor():\n",
    "    def __init__(self, name):\n",
    "        self.name = name\n",
    "        \n",
    "    def get_name(self):\n",
    "        return self.name\n",
    "    \n",
    "    def move(self, board):\n",
    "        raise Exception(\"move(...): Not implemented\")\n",
    "        \n",
    "class RandomActor(Actor):\n",
    "    def __init__(self, name):\n",
    "        super(RandomActor, self).__init__(\"Random_\"+name)\n",
    "    \n",
    "    def move(self, board):\n",
    "        moves_dict = board.possible_moves()\n",
    "        moves = []\n",
    "        for key in moves_dict:\n",
    "            if moves_dict[key]:\n",
    "                moves.append(key)\n",
    "\n",
    "        index = np.random.randint(0,len(moves))\n",
    "        return moves[index]\n",
    "        "
   ]
  },
  {
   "cell_type": "markdown",
   "metadata": {},
   "source": [
    "# Tournament"
   ]
  },
  {
   "cell_type": "code",
   "execution_count": 21,
   "metadata": {},
   "outputs": [],
   "source": [
    "def play_game(playerA, playerB, max_moves):\n",
    "    board = Board()\n",
    "    next_player = 0\n",
    "    sequence = []\n",
    "    for i in range(max_moves):\n",
    "        if next_player == 0:\n",
    "            move = playerA.move(board)\n",
    "        else:\n",
    "            move = playerB.move(board)\n",
    "            \n",
    "        valid_move, next_player, winner = board.move(move)\n",
    "        sequence.append(valid_move)\n",
    "        if winner is not None:\n",
    "            return i, winner, sequence       \n",
    "        \n",
    "    return max_moves, 0.5, sequence # draw if moves exhausted\n",
    "\n",
    "def play_tournament(players, rounds=100, max_moves=1000):\n",
    "    \n",
    "    points = {p.get_name():0 for p in players}\n",
    "    \n",
    "    all_games = len(players)*(len(players)-1)*rounds\n",
    "    progress = tqdm(total=all_games)\n",
    "    \n",
    "    for round in range(rounds):\n",
    "        for pa, playerA in enumerate(players):\n",
    "            for pb, playerB in enumerate(players):\n",
    "                if pa<pb:\n",
    "                    #print(f\"ROUND {round}: {playerA.get_name()} vs {playerB.get_name()}\")\n",
    "                    _,pointsA,_ = play_game(playerA, playerB, max_moves)\n",
    "                    progress.update()\n",
    "                    \n",
    "                    #print(f\"ROUND {round}: {playerB.get_name()} vs {playerA.get_name()}\")\n",
    "                    _,pointsB,_ = play_game(playerB, playerA, max_moves)\n",
    "                    progress.update()\n",
    "                    \n",
    "                    points[playerA.get_name()] += pointsA + (1-pointsB)\n",
    "                    points[playerB.get_name()] += pointsB + (1-pointsA)               \n",
    "    return points"
   ]
  },
  {
   "cell_type": "markdown",
   "metadata": {},
   "source": [
    "# Random play"
   ]
  },
  {
   "cell_type": "code",
   "execution_count": 22,
   "metadata": {},
   "outputs": [
    {
     "data": {
      "application/vnd.jupyter.widget-view+json": {
       "model_id": "bf202f5abe3c4b5ca733f185eb171de3",
       "version_major": 2,
       "version_minor": 0
      },
      "text/plain": [
       "HBox(children=(IntProgress(value=0, max=600), HTML(value='')))"
      ]
     },
     "metadata": {},
     "output_type": "display_data"
    },
    {
     "name": "stdout",
     "output_type": "stream",
     "text": [
      "\n"
     ]
    },
    {
     "data": {
      "text/plain": [
       "{'Random_1': 194, 'Random_2': 201, 'Random_3': 205}"
      ]
     },
     "execution_count": 22,
     "metadata": {},
     "output_type": "execute_result"
    }
   ],
   "source": [
    "play_tournament([RandomActor(\"1\"),RandomActor(\"2\"),RandomActor(\"3\")])"
   ]
  }
 ],
 "metadata": {
  "kernelspec": {
   "display_name": "Python 3",
   "language": "python",
   "name": "python3"
  },
  "language_info": {
   "codemirror_mode": {
    "name": "ipython",
    "version": 3
   },
   "file_extension": ".py",
   "mimetype": "text/x-python",
   "name": "python",
   "nbconvert_exporter": "python",
   "pygments_lexer": "ipython3",
   "version": "3.7.4"
  }
 },
 "nbformat": 4,
 "nbformat_minor": 2
}
